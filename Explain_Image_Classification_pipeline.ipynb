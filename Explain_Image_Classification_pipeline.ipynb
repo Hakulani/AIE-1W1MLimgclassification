{
  "nbformat": 4,
  "nbformat_minor": 0,
  "metadata": {
    "accelerator": "GPU",
    "colab": {
      "name": "Explain Image_Classification_pipeline.ipynb",
      "provenance": [],
      "collapsed_sections": []
    },
    "kernelspec": {
      "display_name": "Python 3",
      "name": "python3"
    }
  },
  "cells": [
    {
      "cell_type": "markdown",
      "metadata": {
        "id": "coo-C95JCL1O"
      },
      "source": [
        "# Machine Learning"
      ]
    },
    {
      "cell_type": "markdown",
      "metadata": {
        "id": "vcKvAmCwCTOM"
      },
      "source": [
        "##Pipeline\n",
        "1. get data\n",
        "2. extract feature\n",
        "3. train model\n",
        "4. test model\n",
        "5. deploy model"
      ]
    },
    {
      "cell_type": "code",
      "metadata": {
        "id": "quidBONyIauc",
        "colab": {
          "base_uri": "https://localhost:8080/"
        },
        "outputId": "44209dcb-7f45-43a6-cc40-fee826cc4a2c"
      },
      "source": [
        "!pip uninstall keras\n",
        "!pip uninstall tensorflow\n",
        "!pip install keras==2.4.3\n",
        "!pip install tensorflow==2.4.3\n",
        "!pip install botnoi==0.2.1"
      ],
      "execution_count": null,
      "outputs": [
        {
          "output_type": "stream",
          "name": "stdout",
          "text": [
            "Found existing installation: keras 2.6.0\n",
            "Uninstalling keras-2.6.0:\n",
            "  Would remove:\n",
            "    /usr/local/lib/python3.7/dist-packages/keras-2.6.0.dist-info/*\n",
            "    /usr/local/lib/python3.7/dist-packages/keras/*\n",
            "Proceed (y/n)? y\n",
            "  Successfully uninstalled keras-2.6.0\n",
            "Found existing installation: tensorflow 2.6.0\n",
            "Uninstalling tensorflow-2.6.0:\n",
            "  Would remove:\n",
            "    /usr/local/bin/estimator_ckpt_converter\n",
            "    /usr/local/bin/import_pb_to_tensorboard\n",
            "    /usr/local/bin/saved_model_cli\n",
            "    /usr/local/bin/tensorboard\n",
            "    /usr/local/bin/tf_upgrade_v2\n",
            "    /usr/local/bin/tflite_convert\n",
            "    /usr/local/bin/toco\n",
            "    /usr/local/bin/toco_from_protos\n",
            "    /usr/local/lib/python3.7/dist-packages/tensorflow-2.6.0.dist-info/*\n",
            "    /usr/local/lib/python3.7/dist-packages/tensorflow/*\n",
            "Proceed (y/n)? y\n",
            "y\n",
            "y\n",
            "  Successfully uninstalled tensorflow-2.6.0\n",
            "Collecting keras==2.4.3\n",
            "  Downloading Keras-2.4.3-py2.py3-none-any.whl (36 kB)\n",
            "Requirement already satisfied: pyyaml in /usr/local/lib/python3.7/dist-packages (from keras==2.4.3) (3.13)\n",
            "Requirement already satisfied: h5py in /usr/local/lib/python3.7/dist-packages (from keras==2.4.3) (3.1.0)\n",
            "Requirement already satisfied: numpy>=1.9.1 in /usr/local/lib/python3.7/dist-packages (from keras==2.4.3) (1.19.5)\n",
            "Requirement already satisfied: scipy>=0.14 in /usr/local/lib/python3.7/dist-packages (from keras==2.4.3) (1.4.1)\n",
            "Requirement already satisfied: cached-property in /usr/local/lib/python3.7/dist-packages (from h5py->keras==2.4.3) (1.5.2)\n",
            "Installing collected packages: keras\n",
            "Successfully installed keras-2.4.3\n",
            "Collecting tensorflow==2.4.3\n",
            "  Downloading tensorflow-2.4.3-cp37-cp37m-manylinux2010_x86_64.whl (394.5 MB)\n",
            "\u001b[K     |████████████████████████████████| 394.5 MB 343 bytes/s \n",
            "\u001b[?25hRequirement already satisfied: typing-extensions~=3.7.4 in /usr/local/lib/python3.7/dist-packages (from tensorflow==2.4.3) (3.7.4.3)\n",
            "Requirement already satisfied: wrapt~=1.12.1 in /usr/local/lib/python3.7/dist-packages (from tensorflow==2.4.3) (1.12.1)\n",
            "Collecting gast==0.3.3\n",
            "  Downloading gast-0.3.3-py2.py3-none-any.whl (9.7 kB)\n",
            "Requirement already satisfied: flatbuffers~=1.12.0 in /usr/local/lib/python3.7/dist-packages (from tensorflow==2.4.3) (1.12)\n",
            "Requirement already satisfied: wheel~=0.35 in /usr/local/lib/python3.7/dist-packages (from tensorflow==2.4.3) (0.37.0)\n",
            "Collecting grpcio~=1.32.0\n",
            "  Downloading grpcio-1.32.0-cp37-cp37m-manylinux2014_x86_64.whl (3.8 MB)\n",
            "\u001b[K     |████████████████████████████████| 3.8 MB 34.5 MB/s \n",
            "\u001b[?25hRequirement already satisfied: keras-preprocessing~=1.1.2 in /usr/local/lib/python3.7/dist-packages (from tensorflow==2.4.3) (1.1.2)\n",
            "Requirement already satisfied: absl-py~=0.10 in /usr/local/lib/python3.7/dist-packages (from tensorflow==2.4.3) (0.12.0)\n",
            "Requirement already satisfied: protobuf>=3.9.2 in /usr/local/lib/python3.7/dist-packages (from tensorflow==2.4.3) (3.17.3)\n",
            "Requirement already satisfied: numpy~=1.19.2 in /usr/local/lib/python3.7/dist-packages (from tensorflow==2.4.3) (1.19.5)\n",
            "Collecting tensorflow-estimator<2.5.0,>=2.4.0\n",
            "  Downloading tensorflow_estimator-2.4.0-py2.py3-none-any.whl (462 kB)\n",
            "\u001b[K     |████████████████████████████████| 462 kB 44.5 MB/s \n",
            "\u001b[?25hCollecting h5py~=2.10.0\n",
            "  Downloading h5py-2.10.0-cp37-cp37m-manylinux1_x86_64.whl (2.9 MB)\n",
            "\u001b[K     |████████████████████████████████| 2.9 MB 34.6 MB/s \n",
            "\u001b[?25hRequirement already satisfied: astunparse~=1.6.3 in /usr/local/lib/python3.7/dist-packages (from tensorflow==2.4.3) (1.6.3)\n",
            "Requirement already satisfied: six~=1.15.0 in /usr/local/lib/python3.7/dist-packages (from tensorflow==2.4.3) (1.15.0)\n",
            "Requirement already satisfied: termcolor~=1.1.0 in /usr/local/lib/python3.7/dist-packages (from tensorflow==2.4.3) (1.1.0)\n",
            "Requirement already satisfied: google-pasta~=0.2 in /usr/local/lib/python3.7/dist-packages (from tensorflow==2.4.3) (0.2.0)\n",
            "Requirement already satisfied: opt-einsum~=3.3.0 in /usr/local/lib/python3.7/dist-packages (from tensorflow==2.4.3) (3.3.0)\n",
            "Requirement already satisfied: tensorboard~=2.4 in /usr/local/lib/python3.7/dist-packages (from tensorflow==2.4.3) (2.6.0)\n",
            "Requirement already satisfied: google-auth-oauthlib<0.5,>=0.4.1 in /usr/local/lib/python3.7/dist-packages (from tensorboard~=2.4->tensorflow==2.4.3) (0.4.5)\n",
            "Requirement already satisfied: markdown>=2.6.8 in /usr/local/lib/python3.7/dist-packages (from tensorboard~=2.4->tensorflow==2.4.3) (3.3.4)\n",
            "Requirement already satisfied: werkzeug>=0.11.15 in /usr/local/lib/python3.7/dist-packages (from tensorboard~=2.4->tensorflow==2.4.3) (1.0.1)\n",
            "Requirement already satisfied: tensorboard-data-server<0.7.0,>=0.6.0 in /usr/local/lib/python3.7/dist-packages (from tensorboard~=2.4->tensorflow==2.4.3) (0.6.1)\n",
            "Requirement already satisfied: google-auth<2,>=1.6.3 in /usr/local/lib/python3.7/dist-packages (from tensorboard~=2.4->tensorflow==2.4.3) (1.34.0)\n",
            "Requirement already satisfied: tensorboard-plugin-wit>=1.6.0 in /usr/local/lib/python3.7/dist-packages (from tensorboard~=2.4->tensorflow==2.4.3) (1.8.0)\n",
            "Requirement already satisfied: requests<3,>=2.21.0 in /usr/local/lib/python3.7/dist-packages (from tensorboard~=2.4->tensorflow==2.4.3) (2.23.0)\n",
            "Requirement already satisfied: setuptools>=41.0.0 in /usr/local/lib/python3.7/dist-packages (from tensorboard~=2.4->tensorflow==2.4.3) (57.4.0)\n",
            "Requirement already satisfied: pyasn1-modules>=0.2.1 in /usr/local/lib/python3.7/dist-packages (from google-auth<2,>=1.6.3->tensorboard~=2.4->tensorflow==2.4.3) (0.2.8)\n",
            "Requirement already satisfied: rsa<5,>=3.1.4 in /usr/local/lib/python3.7/dist-packages (from google-auth<2,>=1.6.3->tensorboard~=2.4->tensorflow==2.4.3) (4.7.2)\n",
            "Requirement already satisfied: cachetools<5.0,>=2.0.0 in /usr/local/lib/python3.7/dist-packages (from google-auth<2,>=1.6.3->tensorboard~=2.4->tensorflow==2.4.3) (4.2.2)\n",
            "Requirement already satisfied: requests-oauthlib>=0.7.0 in /usr/local/lib/python3.7/dist-packages (from google-auth-oauthlib<0.5,>=0.4.1->tensorboard~=2.4->tensorflow==2.4.3) (1.3.0)\n",
            "Requirement already satisfied: importlib-metadata in /usr/local/lib/python3.7/dist-packages (from markdown>=2.6.8->tensorboard~=2.4->tensorflow==2.4.3) (4.6.4)\n",
            "Requirement already satisfied: pyasn1<0.5.0,>=0.4.6 in /usr/local/lib/python3.7/dist-packages (from pyasn1-modules>=0.2.1->google-auth<2,>=1.6.3->tensorboard~=2.4->tensorflow==2.4.3) (0.4.8)\n",
            "Requirement already satisfied: idna<3,>=2.5 in /usr/local/lib/python3.7/dist-packages (from requests<3,>=2.21.0->tensorboard~=2.4->tensorflow==2.4.3) (2.10)\n",
            "Requirement already satisfied: urllib3!=1.25.0,!=1.25.1,<1.26,>=1.21.1 in /usr/local/lib/python3.7/dist-packages (from requests<3,>=2.21.0->tensorboard~=2.4->tensorflow==2.4.3) (1.24.3)\n",
            "Requirement already satisfied: chardet<4,>=3.0.2 in /usr/local/lib/python3.7/dist-packages (from requests<3,>=2.21.0->tensorboard~=2.4->tensorflow==2.4.3) (3.0.4)\n",
            "Requirement already satisfied: certifi>=2017.4.17 in /usr/local/lib/python3.7/dist-packages (from requests<3,>=2.21.0->tensorboard~=2.4->tensorflow==2.4.3) (2021.5.30)\n",
            "Requirement already satisfied: oauthlib>=3.0.0 in /usr/local/lib/python3.7/dist-packages (from requests-oauthlib>=0.7.0->google-auth-oauthlib<0.5,>=0.4.1->tensorboard~=2.4->tensorflow==2.4.3) (3.1.1)\n",
            "Requirement already satisfied: zipp>=0.5 in /usr/local/lib/python3.7/dist-packages (from importlib-metadata->markdown>=2.6.8->tensorboard~=2.4->tensorflow==2.4.3) (3.5.0)\n",
            "Installing collected packages: grpcio, tensorflow-estimator, h5py, gast, tensorflow\n",
            "  Attempting uninstall: grpcio\n",
            "    Found existing installation: grpcio 1.39.0\n",
            "    Uninstalling grpcio-1.39.0:\n",
            "      Successfully uninstalled grpcio-1.39.0\n",
            "  Attempting uninstall: tensorflow-estimator\n",
            "    Found existing installation: tensorflow-estimator 2.6.0\n",
            "    Uninstalling tensorflow-estimator-2.6.0:\n",
            "      Successfully uninstalled tensorflow-estimator-2.6.0\n",
            "  Attempting uninstall: h5py\n",
            "    Found existing installation: h5py 3.1.0\n",
            "    Uninstalling h5py-3.1.0:\n",
            "      Successfully uninstalled h5py-3.1.0\n",
            "  Attempting uninstall: gast\n",
            "    Found existing installation: gast 0.4.0\n",
            "    Uninstalling gast-0.4.0:\n",
            "      Successfully uninstalled gast-0.4.0\n",
            "Successfully installed gast-0.3.3 grpcio-1.32.0 h5py-2.10.0 tensorflow-2.4.3 tensorflow-estimator-2.4.0\n",
            "Collecting botnoi==0.2.1\n",
            "  Downloading botnoi-0.2.1-py3-none-any.whl (16.0 MB)\n",
            "\u001b[K     |████████████████████████████████| 16.0 MB 145 kB/s \n",
            "\u001b[?25hInstalling collected packages: botnoi\n",
            "Successfully installed botnoi-0.2.1\n"
          ]
        }
      ]
    },
    {
      "cell_type": "code",
      "metadata": {
        "id": "Oc_Oj3aSbU5p"
      },
      "source": [
        "import botnoi as bn\n",
        "from botnoi import scrape as sc\n",
        "from botnoi import cv\n",
        "import os"
      ],
      "execution_count": null,
      "outputs": []
    },
    {
      "cell_type": "code",
      "metadata": {
        "id": "TWymhSt-bbFO"
      },
      "source": [
        "def extractimagefeat(query):\n",
        "  #create folder\n",
        "  foldername = 'images/'+query\n",
        "  isdir = os.path.isdir(foldername) \n",
        "  #check if folder exist\n",
        "  if not isdir:\n",
        "    #create directory\n",
        "    os.makedirs(foldername)\n",
        "  #get images from google search\n",
        "  imglist = sc.get_image_urls(query,30)\n",
        "  i = 1\n",
        "  for img in imglist[0:30]:\n",
        "    #extract image features from each images and save to files\n",
        "    try:\n",
        "      print(i)\n",
        "      #create image path\n",
        "      savepath = foldername + '/' + str(i)+'.p'\n",
        "      a = cv.image(img)\n",
        "      a.getresnet50()\n",
        "      #a.getmobilenet()\n",
        "      #a.getmobilenet()\n",
        "      a.save(savepath)\n",
        "      i = i + 1\n",
        "    except:\n",
        "      pass\n",
        "  return 'complete'\n"
      ],
      "execution_count": null,
      "outputs": []
    },
    {
      "cell_type": "code",
      "metadata": {
        "colab": {
          "base_uri": "https://localhost:8080/",
          "height": 606
        },
        "id": "XX0ncklzT5Ti",
        "outputId": "263b8f76-3ce0-47d2-f3aa-c1b38cf95d47"
      },
      "source": [
        "extractimagefeat(\"โรงเรียน\") #downlaod image สกัด feature"
      ],
      "execution_count": null,
      "outputs": [
        {
          "output_type": "stream",
          "name": "stdout",
          "text": [
            "complete: 0.00%\n",
            "completed\n",
            "1\n",
            "Downloading data from https://storage.googleapis.com/tensorflow/keras-applications/resnet/resnet50_weights_tf_dim_ordering_tf_kernels_notop.h5\n",
            "94773248/94765736 [==============================] - 1s 0us/step\n",
            "2\n",
            "3\n",
            "4\n",
            "4\n",
            "5\n",
            "5\n",
            "5\n",
            "6\n",
            "7\n",
            "8\n",
            "9\n",
            "9\n",
            "10\n",
            "11\n",
            "12\n",
            "13\n",
            "14\n",
            "15\n",
            "16\n",
            "17\n",
            "18\n",
            "18\n",
            "19\n",
            "20\n",
            "21\n",
            "22\n",
            "23\n",
            "24\n",
            "25\n"
          ]
        },
        {
          "output_type": "execute_result",
          "data": {
            "application/vnd.google.colaboratory.intrinsic+json": {
              "type": "string"
            },
            "text/plain": [
              "'complete'"
            ]
          },
          "metadata": {},
          "execution_count": 5
        }
      ]
    },
    {
      "cell_type": "code",
      "metadata": {
        "colab": {
          "base_uri": "https://localhost:8080/",
          "height": 573
        },
        "id": "vuHWbaAuUldQ",
        "outputId": "8d7312f0-25bd-4604-bca5-c45d38fedf5f"
      },
      "source": [
        "extractimagefeat(\"โรงแรม\") #downlaod image สกัด feature"
      ],
      "execution_count": null,
      "outputs": [
        {
          "output_type": "stream",
          "name": "stdout",
          "text": [
            "complete: 0.00%\n",
            "completed\n",
            "1\n",
            "2\n",
            "2\n",
            "2\n",
            "2\n",
            "3\n",
            "4\n",
            "5\n",
            "6\n",
            "7\n",
            "8\n",
            "9\n",
            "10\n",
            "11\n",
            "12\n",
            "13\n",
            "14\n",
            "15\n",
            "16\n",
            "17\n",
            "18\n",
            "19\n",
            "20\n",
            "20\n",
            "20\n",
            "20\n",
            "21\n",
            "22\n",
            "22\n",
            "23\n"
          ]
        },
        {
          "output_type": "execute_result",
          "data": {
            "application/vnd.google.colaboratory.intrinsic+json": {
              "type": "string"
            },
            "text/plain": [
              "'complete'"
            ]
          },
          "metadata": {},
          "execution_count": 6
        }
      ]
    },
    {
      "cell_type": "code",
      "metadata": {
        "id": "qsIzCjPBP8tK"
      },
      "source": [
        "import glob\n",
        "import pandas as pd\n",
        "import pickle\n",
        "def createdataset(clsList):\n",
        "  #imgfolder = glob.glob('images/*')\n",
        "  dataset = []\n",
        "  for cls in clsList:\n",
        "    clsset = pd.DataFrame()  #บอกว่าสร้างเป็น data frame \n",
        "    pList = glob.glob('images/'+cls+'/*')  # ดึงข้อมูลที่อยู่ใน folder\n",
        "    featvec = []\n",
        "    for p in pList:\n",
        "      dat = pickle.load(open(p,'rb'))\n",
        "      featvec.append(dat.resnet50)\n",
        "    clsset['feature'] = featvec\n",
        "    cls = cls.split('/')[-1]\n",
        "    clsset['label'] = cls\n",
        "    dataset.append(clsset)\n",
        "  return pd.concat(dataset,axis=0)"
      ],
      "execution_count": null,
      "outputs": []
    },
    {
      "cell_type": "code",
      "metadata": {
        "colab": {
          "base_uri": "https://localhost:8080/"
        },
        "id": "B8Jjix0pVc9E",
        "outputId": "6bd29adb-51f9-4b37-98c1-8d2fe01877a1"
      },
      "source": [
        "pList = glob.glob('images/โรงเรียน/*') # ตัวอย่างการดึงจากfolder\n",
        "pList"
      ],
      "execution_count": null,
      "outputs": [
        {
          "output_type": "execute_result",
          "data": {
            "text/plain": [
              "['images/โรงเรียน/3.p',\n",
              " 'images/โรงเรียน/16.p',\n",
              " 'images/โรงเรียน/23.p',\n",
              " 'images/โรงเรียน/7.p',\n",
              " 'images/โรงเรียน/19.p',\n",
              " 'images/โรงเรียน/11.p',\n",
              " 'images/โรงเรียน/1.p',\n",
              " 'images/โรงเรียน/2.p',\n",
              " 'images/โรงเรียน/18.p',\n",
              " 'images/โรงเรียน/22.p',\n",
              " 'images/โรงเรียน/13.p',\n",
              " 'images/โรงเรียน/5.p',\n",
              " 'images/โรงเรียน/20.p',\n",
              " 'images/โรงเรียน/12.p',\n",
              " 'images/โรงเรียน/4.p',\n",
              " 'images/โรงเรียน/9.p',\n",
              " 'images/โรงเรียน/17.p',\n",
              " 'images/โรงเรียน/14.p',\n",
              " 'images/โรงเรียน/24.p',\n",
              " 'images/โรงเรียน/21.p',\n",
              " 'images/โรงเรียน/10.p',\n",
              " 'images/โรงเรียน/6.p',\n",
              " 'images/โรงเรียน/8.p',\n",
              " 'images/โรงเรียน/15.p']"
            ]
          },
          "metadata": {},
          "execution_count": 20
        }
      ]
    },
    {
      "cell_type": "code",
      "metadata": {
        "id": "y6OqKmcgWxs8"
      },
      "source": [
        "ds=createdataset(['โรงเรียน','โรงแรม'])"
      ],
      "execution_count": null,
      "outputs": []
    },
    {
      "cell_type": "code",
      "metadata": {
        "colab": {
          "base_uri": "https://localhost:8080/"
        },
        "id": "U83RzuxTYNSh",
        "outputId": "b13817d5-9418-406f-d7f7-82a053925b99"
      },
      "source": [
        "#แปลงรูปเป็นตัวเลข กี่ตัวเลข\n",
        "len(ds.iloc[1]['feature'])"
      ],
      "execution_count": null,
      "outputs": [
        {
          "output_type": "execute_result",
          "data": {
            "text/plain": [
              "100352"
            ]
          },
          "metadata": {},
          "execution_count": 30
        }
      ]
    },
    {
      "cell_type": "code",
      "metadata": {
        "id": "3AlHGpiCI1gg"
      },
      "source": [
        "from sklearn.model_selection import train_test_split\n",
        "import numpy as np\n",
        "from sklearn.svm import LinearSVC\n",
        "def trainmodel(dataset,modfile=''):\n",
        "  trainfeat, testfeat, trainlabel, testlabel = train_test_split(dataset['feature'], dataset['label'], test_size=0.20, random_state=0)\n",
        "  clf = LinearSVC()\n",
        "  mod = clf.fit(np.vstack(trainfeat.values),trainlabel.values)\n",
        "  res = mod.predict(np.vstack(testfeat.values))\n",
        "  if modfile!='':  #set ว่าง สร้างขึ้นมา\n",
        "    pickle.dump(mod,open(modfile,'wb'))\n",
        "  acc = sum(res == testlabel)/len(res)\n",
        "  return mod,acc"
      ],
      "execution_count": null,
      "outputs": []
    },
    {
      "cell_type": "code",
      "metadata": {
        "colab": {
          "base_uri": "https://localhost:8080/"
        },
        "id": "iLlqmVcEYc3Q",
        "outputId": "d1ea3791-99ce-4ff3-c4a1-43520371d700"
      },
      "source": [
        "trainmodel(ds,'โรงเรียนโรงแรม.mod') # ดูความแม่นยำ"
      ],
      "execution_count": null,
      "outputs": [
        {
          "output_type": "execute_result",
          "data": {
            "text/plain": [
              "(LinearSVC(C=1.0, class_weight=None, dual=True, fit_intercept=True,\n",
              "           intercept_scaling=1, loss='squared_hinge', max_iter=1000,\n",
              "           multi_class='ovr', penalty='l2', random_state=None, tol=0.0001,\n",
              "           verbose=0), 0.8)"
            ]
          },
          "metadata": {},
          "execution_count": 31
        }
      ]
    },
    {
      "cell_type": "code",
      "metadata": {
        "id": "zxxTOGoStzK-"
      },
      "source": [
        "def createclassifier(clsList,modfile):\n",
        "  for c in clsList:\n",
        "    extractimagefeat(c)\n",
        "  dset = createdataset(clsList)\n",
        "  return trainmodel(dset,modfile)"
      ],
      "execution_count": null,
      "outputs": []
    },
    {
      "cell_type": "code",
      "metadata": {
        "colab": {
          "base_uri": "https://localhost:8080/"
        },
        "id": "KWG-9RjBdpXS",
        "outputId": "45e3c031-fd0f-4747-dfea-2de6f1ea3c38"
      },
      "source": [
        "createclassifier(['โรงเรียน','โรงแรม'],'โรงเรียนโรงแรม.mod')  # เปลี่ยนชื่อที่ต้องการแยก"
      ],
      "execution_count": null,
      "outputs": [
        {
          "output_type": "stream",
          "name": "stdout",
          "text": [
            "complete: 0.00%\n",
            "completed\n",
            "1\n",
            "2\n",
            "3\n",
            "4\n",
            "4\n",
            "5\n",
            "5\n",
            "5\n",
            "6\n",
            "7\n",
            "8\n",
            "9\n",
            "9\n",
            "10\n",
            "11\n",
            "12\n",
            "13\n",
            "14\n",
            "15\n",
            "16\n",
            "17\n",
            "18\n",
            "18\n",
            "19\n",
            "20\n",
            "21\n",
            "22\n",
            "23\n",
            "24\n",
            "24\n",
            "complete: 0.00%\n",
            "completed\n",
            "1\n",
            "2\n",
            "2\n",
            "2\n",
            "2\n",
            "3\n",
            "4\n",
            "5\n",
            "6\n",
            "7\n",
            "8\n",
            "9\n",
            "10\n",
            "11\n",
            "12\n",
            "13\n",
            "14\n",
            "15\n",
            "16\n",
            "17\n",
            "18\n",
            "19\n",
            "20\n",
            "20\n",
            "20\n",
            "20\n",
            "21\n",
            "22\n",
            "22\n",
            "23\n"
          ]
        },
        {
          "output_type": "execute_result",
          "data": {
            "text/plain": [
              "(LinearSVC(C=1.0, class_weight=None, dual=True, fit_intercept=True,\n",
              "           intercept_scaling=1, loss='squared_hinge', max_iter=1000,\n",
              "           multi_class='ovr', penalty='l2', random_state=None, tol=0.0001,\n",
              "           verbose=0), 0.8)"
            ]
          },
          "metadata": {},
          "execution_count": 23
        }
      ]
    },
    {
      "cell_type": "code",
      "metadata": {
        "id": "lppcwp8ngNgD"
      },
      "source": [
        "# output function\n",
        "modFile = 'โรงเรียนโรงแรม.mod'\n",
        "mod = pickle.load(open(modFile,'rb'))"
      ],
      "execution_count": null,
      "outputs": []
    },
    {
      "cell_type": "code",
      "metadata": {
        "id": "l6RL60Xm5Dl7"
      },
      "source": [
        "def predicting(imgurl):\n",
        "  a = cv.image(imgurl)\n",
        "  feat = a.getresnet50()\n",
        "  res = mod.predict([feat])\n",
        "  return res"
      ],
      "execution_count": null,
      "outputs": []
    },
    {
      "cell_type": "code",
      "metadata": {
        "id": "PypshlZROYxR",
        "colab": {
          "base_uri": "https://localhost:8080/"
        },
        "outputId": "2f4fc439-b640-475c-b160-f3a044598aa4"
      },
      "source": [
        "a=predicting('https://www.wegointer.com/wp-content/uploads/2018/03/10-7.jpg')\n",
        "# a=predictimg('https://f.ptcdn.info/810/034/000/1440553775-IMG5594-o.jpg')\n",
        "a"
      ],
      "execution_count": null,
      "outputs": [
        {
          "output_type": "execute_result",
          "data": {
            "text/plain": [
              "array(['โรงเรียน'], dtype=object)"
            ]
          },
          "metadata": {},
          "execution_count": 27
        }
      ]
    },
    {
      "cell_type": "code",
      "metadata": {
        "id": "dIe8rKu2hbhq"
      },
      "source": [
        "def getthumbdisplay(imgList):\n",
        "  res = ''\n",
        "  for img in imgList:\n",
        "    res = res + gethtmlimage(img)\n",
        "  return res\n"
      ],
      "execution_count": null,
      "outputs": []
    },
    {
      "cell_type": "code",
      "metadata": {
        "id": "SPrRj-9mgREZ"
      },
      "source": [
        "def gethtmlimage(imgurl):\n",
        "  htmlTag = '''\n",
        "  <a target=\"_blank\" href=\"%s\">\n",
        "    <img src=\"%s\" alt=\"Forest\">\n",
        "  </a>\n",
        "  '''%(imgurl,imgurl)\n",
        "  return htmlTag\n"
      ],
      "execution_count": null,
      "outputs": []
    },
    {
      "cell_type": "code",
      "metadata": {
        "id": "pQKkRpDDfhXZ"
      },
      "source": [
        "import IPython\n",
        "from google.colab import output\n",
        "def displayimagelist(imgList):\n",
        "  htmlimage = getthumbdisplay(imgList)\n",
        "  html = '''<style>\n",
        "  img {\n",
        "    border: 1px solid #ddd; /* Gray border */\n",
        "    border-radius: 4px;  /* Rounded border */\n",
        "    padding: 5px; /* Some padding */\n",
        "    width: 150px; /* Set a small width */\n",
        "  }\n",
        "\n",
        "  /* Add a hover effect (blue shadow) */\n",
        "  img:hover {\n",
        "    box-shadow: 0 0 2px 1px rgba(0, 140, 186, 0.5);\n",
        "  }\n",
        "  </style>\n",
        "  <body>\n",
        "\n",
        "  %s\n",
        "\n",
        "  </body>'''%htmlimage\n",
        "  display(IPython.display.HTML(html))"
      ],
      "execution_count": null,
      "outputs": []
    },
    {
      "cell_type": "code",
      "metadata": {
        "colab": {
          "base_uri": "https://localhost:8080/",
          "height": 946
        },
        "id": "Flgd_VSAgT2A",
        "outputId": "c8b0c308-d8d9-49b9-ed05-079a12fa7930"
      },
      "source": [
        "imglist = sc.get_image_urls('อาคารโรงเรียน',30)\n",
        "displayimagelist(imglist)"
      ],
      "execution_count": null,
      "outputs": [
        {
          "output_type": "stream",
          "name": "stdout",
          "text": [
            "complete: 0.00%\n",
            "completed\n"
          ]
        },
        {
          "output_type": "display_data",
          "data": {
            "text/html": [
              "<style>\n",
              "  img {\n",
              "    border: 1px solid #ddd; /* Gray border */\n",
              "    border-radius: 4px;  /* Rounded border */\n",
              "    padding: 5px; /* Some padding */\n",
              "    width: 150px; /* Set a small width */\n",
              "  }\n",
              "\n",
              "  /* Add a hover effect (blue shadow) */\n",
              "  img:hover {\n",
              "    box-shadow: 0 0 2px 1px rgba(0, 140, 186, 0.5);\n",
              "  }\n",
              "  </style>\n",
              "  <body>\n",
              "\n",
              "  \n",
              "  <a target=\"_blank\" href=\"https://www.creativemove.com/wp-content/uploads/2015/11/FullSizeRender-7-600x399.jpg\">\n",
              "    <img src=\"https://www.creativemove.com/wp-content/uploads/2015/11/FullSizeRender-7-600x399.jpg\" alt=\"Forest\">\n",
              "  </a>\n",
              "  \n",
              "  <a target=\"_blank\" href=\"https://i.pinimg.com/474x/14/c1/f8/14c1f8bafa476fe718afdf1b2c3952c1.jpg\">\n",
              "    <img src=\"https://i.pinimg.com/474x/14/c1/f8/14c1f8bafa476fe718afdf1b2c3952c1.jpg\" alt=\"Forest\">\n",
              "  </a>\n",
              "  \n",
              "  <a target=\"_blank\" href=\"https://www.spts.ac.th/site/wp-content/uploads/2019/07/a5.jpg\">\n",
              "    <img src=\"https://www.spts.ac.th/site/wp-content/uploads/2019/07/a5.jpg\" alt=\"Forest\">\n",
              "  </a>\n",
              "  \n",
              "  <a target=\"_blank\" href=\"https://png.pngtree.com/png-clipart/20200420/ourmid/pngtree-cartoon-school-modern-building-png-image_2190702.jpg\">\n",
              "    <img src=\"https://png.pngtree.com/png-clipart/20200420/ourmid/pngtree-cartoon-school-modern-building-png-image_2190702.jpg\" alt=\"Forest\">\n",
              "  </a>\n",
              "  \n",
              "  <a target=\"_blank\" href=\"https://img.lovepik.com/element/40037/8183.png_860.png\">\n",
              "    <img src=\"https://img.lovepik.com/element/40037/8183.png_860.png\" alt=\"Forest\">\n",
              "  </a>\n",
              "  \n",
              "  <a target=\"_blank\" href=\"https://bobec.bopp-obec.info/b01/801135010725360120191023133428333655899.jpg\">\n",
              "    <img src=\"https://bobec.bopp-obec.info/b01/801135010725360120191023133428333655899.jpg\" alt=\"Forest\">\n",
              "  </a>\n",
              "  \n",
              "  <a target=\"_blank\" href=\"https://lh3.googleusercontent.com/-5Dols1HUNVI/TWhlsfV9sqI/AAAAAAAAABk/QvVdmIG-6yA/s1600/28389_10150192207630503_440423000502_12544958_2198244_n.jpg\">\n",
              "    <img src=\"https://lh3.googleusercontent.com/-5Dols1HUNVI/TWhlsfV9sqI/AAAAAAAAABk/QvVdmIG-6yA/s1600/28389_10150192207630503_440423000502_12544958_2198244_n.jpg\" alt=\"Forest\">\n",
              "  </a>\n",
              "  \n",
              "  <a target=\"_blank\" href=\"https://png.pngtree.com/background/20210712/original/pngtree-vector-school-building-background-design-picture-image_1180541.jpg\">\n",
              "    <img src=\"https://png.pngtree.com/background/20210712/original/pngtree-vector-school-building-background-design-picture-image_1180541.jpg\" alt=\"Forest\">\n",
              "  </a>\n",
              "  \n",
              "  <a target=\"_blank\" href=\"https://bobec.bopp-obec.info/b01/6405754012725350120191030132354555699687.jpg\">\n",
              "    <img src=\"https://bobec.bopp-obec.info/b01/6405754012725350120191030132354555699687.jpg\" alt=\"Forest\">\n",
              "  </a>\n",
              "  \n",
              "  <a target=\"_blank\" href=\"https://e7.pngegg.com/pngimages/518/866/png-clipart-coreldraw-a-school-building-template-building.png\">\n",
              "    <img src=\"https://e7.pngegg.com/pngimages/518/866/png-clipart-coreldraw-a-school-building-template-building.png\" alt=\"Forest\">\n",
              "  </a>\n",
              "  \n",
              "  <a target=\"_blank\" href=\"https://www.cpw.ac.th/image_people/image_peopleA1537931167-DJI_0040.jpg\">\n",
              "    <img src=\"https://www.cpw.ac.th/image_people/image_peopleA1537931167-DJI_0040.jpg\" alt=\"Forest\">\n",
              "  </a>\n",
              "  \n",
              "  <a target=\"_blank\" href=\"https://mapio.net/images-p/32228851.jpg\">\n",
              "    <img src=\"https://mapio.net/images-p/32228851.jpg\" alt=\"Forest\">\n",
              "  </a>\n",
              "  \n",
              "  <a target=\"_blank\" href=\"https://bobec.bopp-obec.info/b01/640575101272521012019103012474960122153.jpg\">\n",
              "    <img src=\"https://bobec.bopp-obec.info/b01/640575101272521012019103012474960122153.jpg\" alt=\"Forest\">\n",
              "  </a>\n",
              "  \n",
              "  <a target=\"_blank\" href=\"https://kkchikizolic.files.wordpress.com/2013/09/1005420_629217163769570_490042246_n.jpg\">\n",
              "    <img src=\"https://kkchikizolic.files.wordpress.com/2013/09/1005420_629217163769570_490042246_n.jpg\" alt=\"Forest\">\n",
              "  </a>\n",
              "  \n",
              "  <a target=\"_blank\" href=\"https://www.obec.go.th/wp-content/uploads/2019/09/88.jpg\">\n",
              "    <img src=\"https://www.obec.go.th/wp-content/uploads/2019/09/88.jpg\" alt=\"Forest\">\n",
              "  </a>\n",
              "  \n",
              "  <a target=\"_blank\" href=\"https://acsst.files.wordpress.com/2014/11/e0b89ce0b989e0b8b2e0b89be0b988e0b8b2e0b8aae0b8a3e0b989e0b8b2e0b887e0b8ade0b8b2e0b884e0b8b2e0b8a3e0b980e0b8a3e0b8b5e0b8a2e0b899.jpg\">\n",
              "    <img src=\"https://acsst.files.wordpress.com/2014/11/e0b89ce0b989e0b8b2e0b89be0b988e0b8b2e0b8aae0b8a3e0b989e0b8b2e0b887e0b8ade0b8b2e0b884e0b8b2e0b8a3e0b980e0b8a3e0b8b5e0b8a2e0b899.jpg\" alt=\"Forest\">\n",
              "  </a>\n",
              "  \n",
              "  <a target=\"_blank\" href=\"https://finearts.go.th/uploads/tinymce/source/13/Knowledge_4/0461/01.jpg\">\n",
              "    <img src=\"https://finearts.go.th/uploads/tinymce/source/13/Knowledge_4/0461/01.jpg\" alt=\"Forest\">\n",
              "  </a>\n",
              "  \n",
              "  <a target=\"_blank\" href=\"https://img.lovepik.com/photo/50064/1574.jpg_wh860.jpg\">\n",
              "    <img src=\"https://img.lovepik.com/photo/50064/1574.jpg_wh860.jpg\" alt=\"Forest\">\n",
              "  </a>\n",
              "  \n",
              "  <a target=\"_blank\" href=\"https://bobec.bopp-obec.info/b01/4903971012825240120191018193459172241583.jpg\">\n",
              "    <img src=\"https://bobec.bopp-obec.info/b01/4903971012825240120191018193459172241583.jpg\" alt=\"Forest\">\n",
              "  </a>\n",
              "  \n",
              "  <a target=\"_blank\" href=\"https://png.pngtree.com/png-vector/20190629/ourmid/pngtree-school-building-flat-design-png-image_1512489.jpg\">\n",
              "    <img src=\"https://png.pngtree.com/png-vector/20190629/ourmid/pngtree-school-building-flat-design-png-image_1512489.jpg\" alt=\"Forest\">\n",
              "  </a>\n",
              "  \n",
              "  <a target=\"_blank\" href=\"https://png.pngtree.com/png-clipart/20201216/original/pngtree-school-building-cartoon-school-building-png-image_5696115.jpg\">\n",
              "    <img src=\"https://png.pngtree.com/png-clipart/20201216/original/pngtree-school-building-cartoon-school-building-png-image_5696115.jpg\" alt=\"Forest\">\n",
              "  </a>\n",
              "  \n",
              "  <a target=\"_blank\" href=\"https://bobec.bopp-obec.info/b01/7111325012925510120191021111254882519747.jpg\">\n",
              "    <img src=\"https://bobec.bopp-obec.info/b01/7111325012925510120191021111254882519747.jpg\" alt=\"Forest\">\n",
              "  </a>\n",
              "  \n",
              "  <a target=\"_blank\" href=\"https://bobec.bopp-obec.info/b01/4903972012825240120191018193632418471501.jpg\">\n",
              "    <img src=\"https://bobec.bopp-obec.info/b01/4903972012825240120191018193632418471501.jpg\" alt=\"Forest\">\n",
              "  </a>\n",
              "  \n",
              "  <a target=\"_blank\" href=\"https://campus.campus-star.com/app/uploads/2017/04/100.jpg\">\n",
              "    <img src=\"https://campus.campus-star.com/app/uploads/2017/04/100.jpg\" alt=\"Forest\">\n",
              "  </a>\n",
              "  \n",
              "  <a target=\"_blank\" href=\"https://www.spts.ac.th/site/wp-content/uploads/2019/07/a1.jpg\">\n",
              "    <img src=\"https://www.spts.ac.th/site/wp-content/uploads/2019/07/a1.jpg\" alt=\"Forest\">\n",
              "  </a>\n",
              "  \n",
              "  <a target=\"_blank\" href=\"https://png.pngtree.com/png-vector/20190927/ourlarge/pngtree-school-building-vector-illustration-school-building-cartoon-png-image_1745834.jpg\">\n",
              "    <img src=\"https://png.pngtree.com/png-vector/20190927/ourlarge/pngtree-school-building-vector-illustration-school-building-cartoon-png-image_1745834.jpg\" alt=\"Forest\">\n",
              "  </a>\n",
              "  \n",
              "  <a target=\"_blank\" href=\"https://s3-ap-southeast-1.amazonaws.com/builk3storage/project/20161125_032613_project_2056368_big.jpg\">\n",
              "    <img src=\"https://s3-ap-southeast-1.amazonaws.com/builk3storage/project/20161125_032613_project_2056368_big.jpg\" alt=\"Forest\">\n",
              "  </a>\n",
              "  \n",
              "  <a target=\"_blank\" href=\"https://www.anud.ac.th/images/Image62-2/page1.jpg\">\n",
              "    <img src=\"https://www.anud.ac.th/images/Image62-2/page1.jpg\" alt=\"Forest\">\n",
              "  </a>\n",
              "  \n",
              "  <a target=\"_blank\" href=\"https://s3-ap-southeast-1.amazonaws.com/builk3storage/project/25570401_081325_project_2002046_big.jpg\">\n",
              "    <img src=\"https://s3-ap-southeast-1.amazonaws.com/builk3storage/project/25570401_081325_project_2002046_big.jpg\" alt=\"Forest\">\n",
              "  </a>\n",
              "  \n",
              "  <a target=\"_blank\" href=\"https://cdn.chiangmainews.co.th/wp-content/uploads/2020/06/04181931/87407.jpg\">\n",
              "    <img src=\"https://cdn.chiangmainews.co.th/wp-content/uploads/2020/06/04181931/87407.jpg\" alt=\"Forest\">\n",
              "  </a>\n",
              "  \n",
              "  <a target=\"_blank\" href=\"https://data.bopp-obec.info/emis/news/pic/2019-12-25170523.jpg\">\n",
              "    <img src=\"https://data.bopp-obec.info/emis/news/pic/2019-12-25170523.jpg\" alt=\"Forest\">\n",
              "  </a>\n",
              "  \n",
              "  <a target=\"_blank\" href=\"https://www.cpw.ac.th/image_people/image_peopleA1537931167-DJI_0085.jpg\">\n",
              "    <img src=\"https://www.cpw.ac.th/image_people/image_peopleA1537931167-DJI_0085.jpg\" alt=\"Forest\">\n",
              "  </a>\n",
              "  \n",
              "  <a target=\"_blank\" href=\"https://www.77kaoded.com/wp-content/uploads/44-43.jpg\">\n",
              "    <img src=\"https://www.77kaoded.com/wp-content/uploads/44-43.jpg\" alt=\"Forest\">\n",
              "  </a>\n",
              "  \n",
              "  <a target=\"_blank\" href=\"https://www.cpw.ac.th/image_people/image_peopleA1537931115-DJI_0058.jpg\">\n",
              "    <img src=\"https://www.cpw.ac.th/image_people/image_peopleA1537931115-DJI_0058.jpg\" alt=\"Forest\">\n",
              "  </a>\n",
              "  \n",
              "  <a target=\"_blank\" href=\"https://www.m-culture.go.th/angthong/images/article/news557/n20170828092451_3871.jpg\">\n",
              "    <img src=\"https://www.m-culture.go.th/angthong/images/article/news557/n20170828092451_3871.jpg\" alt=\"Forest\">\n",
              "  </a>\n",
              "  \n",
              "  <a target=\"_blank\" href=\"https://www.watmoli.com/wp-content/uploads/2019/09/620928-1-1024x564.jpg\">\n",
              "    <img src=\"https://www.watmoli.com/wp-content/uploads/2019/09/620928-1-1024x564.jpg\" alt=\"Forest\">\n",
              "  </a>\n",
              "  \n",
              "  <a target=\"_blank\" href=\"https://bobec.bopp-obec.info/b101/750262-20160630155925.jpg\">\n",
              "    <img src=\"https://bobec.bopp-obec.info/b101/750262-20160630155925.jpg\" alt=\"Forest\">\n",
              "  </a>\n",
              "  \n",
              "  <a target=\"_blank\" href=\"https://i.ytimg.com/vi/utGyEYryv5w/maxresdefault.jpg\">\n",
              "    <img src=\"https://i.ytimg.com/vi/utGyEYryv5w/maxresdefault.jpg\" alt=\"Forest\">\n",
              "  </a>\n",
              "  \n",
              "  <a target=\"_blank\" href=\"https://asa.or.th/wp-content/uploads/2018/08/E-SAN-CLASSIC_6-1.jpg\">\n",
              "    <img src=\"https://asa.or.th/wp-content/uploads/2018/08/E-SAN-CLASSIC_6-1.jpg\" alt=\"Forest\">\n",
              "  </a>\n",
              "  \n",
              "  <a target=\"_blank\" href=\"https://my.kapook.com/imagescontent/fb_img/102/s_66901_7389.jpg\">\n",
              "    <img src=\"https://my.kapook.com/imagescontent/fb_img/102/s_66901_7389.jpg\" alt=\"Forest\">\n",
              "  </a>\n",
              "  \n",
              "  <a target=\"_blank\" href=\"https://png.pngtree.com/background/20210709/original/pngtree-cartoon-fresh-school-welcome-new-building-background-picture-image_942473.jpg\">\n",
              "    <img src=\"https://png.pngtree.com/background/20210709/original/pngtree-cartoon-fresh-school-welcome-new-building-background-picture-image_942473.jpg\" alt=\"Forest\">\n",
              "  </a>\n",
              "  \n",
              "  <a target=\"_blank\" href=\"https://bobec.bopp-obec.info/b01/4508394012925380120201028135850640257175.jpg\">\n",
              "    <img src=\"https://bobec.bopp-obec.info/b01/4508394012925380120201028135850640257175.jpg\" alt=\"Forest\">\n",
              "  </a>\n",
              "  \n",
              "  <a target=\"_blank\" href=\"https://png.pngtree.com/png-clipart/20190611/original/pngtree-vector-flat-campus-architecture-png-image_3147281.jpg\">\n",
              "    <img src=\"https://png.pngtree.com/png-clipart/20190611/original/pngtree-vector-flat-campus-architecture-png-image_3147281.jpg\" alt=\"Forest\">\n",
              "  </a>\n",
              "  \n",
              "  <a target=\"_blank\" href=\"https://s3-ap-southeast-1.amazonaws.com/builk3storage/project/20170824_113120_project_2085861_big.jpg\">\n",
              "    <img src=\"https://s3-ap-southeast-1.amazonaws.com/builk3storage/project/20170824_113120_project_2085861_big.jpg\" alt=\"Forest\">\n",
              "  </a>\n",
              "  \n",
              "  <a target=\"_blank\" href=\"https://www.ratwittaya.com/images/content/original-1575361614156.jpg\">\n",
              "    <img src=\"https://www.ratwittaya.com/images/content/original-1575361614156.jpg\" alt=\"Forest\">\n",
              "  </a>\n",
              "  \n",
              "  <a target=\"_blank\" href=\"https://asa.or.th/wp-content/uploads/2018/08/E-SAN-CLASSIC_5.jpg\">\n",
              "    <img src=\"https://asa.or.th/wp-content/uploads/2018/08/E-SAN-CLASSIC_5.jpg\" alt=\"Forest\">\n",
              "  </a>\n",
              "  \n",
              "  <a target=\"_blank\" href=\"https://news.thaipbs.or.th/media/G0DL5oPyrtt5HBAi4AIWbNg4TqvVAPm64Hb9ymMzIGx5NmzzUkJoMu.png\">\n",
              "    <img src=\"https://news.thaipbs.or.th/media/G0DL5oPyrtt5HBAi4AIWbNg4TqvVAPm64Hb9ymMzIGx5NmzzUkJoMu.png\" alt=\"Forest\">\n",
              "  </a>\n",
              "  \n",
              "  <a target=\"_blank\" href=\"https://www.museumthailand.com/upload/slide/1509084390_9015.jpg\">\n",
              "    <img src=\"https://www.museumthailand.com/upload/slide/1509084390_9015.jpg\" alt=\"Forest\">\n",
              "  </a>\n",
              "  \n",
              "  <a target=\"_blank\" href=\"https://www.catdumb.com/wp-content/uploads/2016/08/6-144.jpg\">\n",
              "    <img src=\"https://www.catdumb.com/wp-content/uploads/2016/08/6-144.jpg\" alt=\"Forest\">\n",
              "  </a>\n",
              "  \n",
              "  <a target=\"_blank\" href=\"https://www.obec.go.th/wp-content/uploads/2018/11/3_resize-1.jpg\">\n",
              "    <img src=\"https://www.obec.go.th/wp-content/uploads/2018/11/3_resize-1.jpg\" alt=\"Forest\">\n",
              "  </a>\n",
              "  \n",
              "  <a target=\"_blank\" href=\"https://png.pngtree.com/background/20210712/original/pngtree-vector-school-building-background-picture-image_1179995.jpg\">\n",
              "    <img src=\"https://png.pngtree.com/background/20210712/original/pngtree-vector-school-building-background-picture-image_1179995.jpg\" alt=\"Forest\">\n",
              "  </a>\n",
              "  \n",
              "  <a target=\"_blank\" href=\"https://s3-ap-southeast-1.amazonaws.com/builk3storage/project/25571010_032025_project_2001571_big.jpg\">\n",
              "    <img src=\"https://s3-ap-southeast-1.amazonaws.com/builk3storage/project/25571010_032025_project_2001571_big.jpg\" alt=\"Forest\">\n",
              "  </a>\n",
              "  \n",
              "  <a target=\"_blank\" href=\"https://www.naewna.com/uploads/news/source/341733.jpg\">\n",
              "    <img src=\"https://www.naewna.com/uploads/news/source/341733.jpg\" alt=\"Forest\">\n",
              "  </a>\n",
              "  \n",
              "  <a target=\"_blank\" href=\"https://cdn.gotoknow.org/assets/media/files/001/387/521/original_20191128145414.jpg\">\n",
              "    <img src=\"https://cdn.gotoknow.org/assets/media/files/001/387/521/original_20191128145414.jpg\" alt=\"Forest\">\n",
              "  </a>\n",
              "  \n",
              "  <a target=\"_blank\" href=\"https://www.banidea.com/wp-content/uploads/2020/07/school-design.jpg\">\n",
              "    <img src=\"https://www.banidea.com/wp-content/uploads/2020/07/school-design.jpg\" alt=\"Forest\">\n",
              "  </a>\n",
              "  \n",
              "  <a target=\"_blank\" href=\"https://4.bp.blogspot.com/-ngeLi9h5nXk/VGld7FtehRI/AAAAAAAB_34/xsPTneeeddA/w1200-h630-p-k-no-nu/school.jpg\">\n",
              "    <img src=\"https://4.bp.blogspot.com/-ngeLi9h5nXk/VGld7FtehRI/AAAAAAAB_34/xsPTneeeddA/w1200-h630-p-k-no-nu/school.jpg\" alt=\"Forest\">\n",
              "  </a>\n",
              "  \n",
              "\n",
              "  </body>"
            ],
            "text/plain": [
              "<IPython.core.display.HTML object>"
            ]
          },
          "metadata": {}
        }
      ]
    }
  ]
}